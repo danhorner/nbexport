{
 "cells": [
  {
   "cell_type": "markdown",
   "id": "75918589-7592-4c9c-8a87-6a3afce041b4",
   "metadata": {},
   "source": [
    "# `nbexport` — Notebook exporter\n",
    "> Export python modules from notebooks without the full overhead of `nbdev`. "
   ]
  },
  {
   "cell_type": "markdown",
   "id": "bc75deaf-0b5f-4618-b3ee-1e8967d5d164",
   "metadata": {},
   "source": [
    "This module is based on the export logic in [nbdev](https://github.com/fastai/nbdev). Nbdev is great but it's a little too heavyweight. The customizations to the quarto integration are too much for me. I'd like to continue using sphinx/autodoc for docs. I like to have code in python modules but often I want to develop code in a notebook.\n",
    "\n",
    "\n",
    "These functions can collect code from the notebooks in a directory and write python modules.  Like nbdev, any code cell containing an import statement is written to the module, as well as any code cell marked with the `#|export` directive.\n",
    "\n"
   ]
  },
  {
   "cell_type": "markdown",
   "id": "0401140a-0714-49e0-80c3-e00ce2e7cda0",
   "metadata": {},
   "source": [
    "**eg:** This notebook is the source for the file `nbexport.py`"
   ]
  },
  {
   "cell_type": "code",
   "execution_count": null,
   "id": "4907343b-a001-4cf8-a591-f296665133e2",
   "metadata": {},
   "outputs": [],
   "source": [
    "#|default_exp: nbexport"
   ]
  },
  {
   "cell_type": "code",
   "execution_count": null,
   "id": "3f5aae64-2348-417c-ac64-6f26b9d3d17e",
   "metadata": {},
   "outputs": [],
   "source": [
    "import nbformat\n",
    "import itertools\n",
    "import os\n",
    "import re"
   ]
  },
  {
   "cell_type": "markdown",
   "id": "7a3624b3-9954-462c-93fa-c55b8cd16aa5",
   "metadata": {},
   "source": [
    "# nbexport Directives\n",
    "\n",
    "Directives are written at the top of each cell and tell nbexport what to do with the code. They are very similar to `nbdev`. \n",
    "\n",
    "### The directives supported by nbexport\n",
    "\n",
    "| directive | meaning |\n",
    "|-----------|---------|\n",
    "| default_exp | the module to target with code in this directory | \n",
    "| export [module] | export the code in this cell\n",
    "| noexport | do not export the code in this cell, even if it contains an import statement\n",
    "| skip_notebook | do not process any further cells in this notebook\n",
    "\n"
   ]
  },
  {
   "cell_type": "code",
   "execution_count": null,
   "id": "1087d54a-3512-489b-9693-44ffec21e7b3",
   "metadata": {},
   "outputs": [],
   "source": [
    "#|export\n",
    "\n",
    "from enum import Enum\n",
    "Directive = Enum(\"Directive\", [\n",
    "    \"default_exp\",\n",
    "    \"export\",\n",
    "    \"noexport\",\n",
    "    \"skip_notebook\"\n",
    "])"
   ]
  },
  {
   "cell_type": "markdown",
   "id": "d097ac21-7652-48d9-ae0f-ef2f58af1106",
   "metadata": {},
   "source": [
    "# Develop using sample data from this notebook\n",
    "\n",
    "Use this notebook to doogfood nbexport and create the nbexport.py module. Nbformat reads a notebook into a list of cell dictionaries. Load this notebook with nbformat and use it as an example...\n",
    "\n",
    "Two interesting cells are loaded: `first_code_cell` and `first_cell_with_directive`"
   ]
  },
  {
   "cell_type": "code",
   "execution_count": null,
   "id": "0f92a84a-cc58-4371-ab40-20274f27100d",
   "metadata": {},
   "outputs": [],
   "source": [
    "nb=nbformat.read(\"nbs/01_NbExport.ipynb\", nbformat.NO_CONVERT)"
   ]
  },
  {
   "cell_type": "markdown",
   "id": "495b4732-4da5-4d74-b5cb-063651dc657d",
   "metadata": {},
   "source": [
    "### What does the imported notebook look like?"
   ]
  },
  {
   "cell_type": "code",
   "execution_count": null,
   "id": "1e4c23d4-8528-4b81-b96f-293b496770c1",
   "metadata": {},
   "outputs": [
    {
     "data": {
      "text/plain": [
       "dict_keys(['cells', 'metadata', 'nbformat', 'nbformat_minor'])"
      ]
     },
     "execution_count": null,
     "metadata": {},
     "output_type": "execute_result"
    }
   ],
   "source": [
    "nb.keys()"
   ]
  },
  {
   "cell_type": "code",
   "execution_count": null,
   "id": "c705a079-293e-4f7e-803a-4d7940e5801d",
   "metadata": {},
   "outputs": [
    {
     "data": {
      "text/plain": [
       "43"
      ]
     },
     "execution_count": null,
     "metadata": {},
     "output_type": "execute_result"
    }
   ],
   "source": [
    "len(nb.cells)"
   ]
  },
  {
   "cell_type": "code",
   "execution_count": null,
   "id": "7715a0cf-a17b-4768-a96a-6dd22a691257",
   "metadata": {},
   "outputs": [
    {
     "data": {
      "text/plain": [
       "{'cell_type': 'markdown',\n",
       " 'id': '75918589-7592-4c9c-8a87-6a3afce041b4',\n",
       " 'metadata': {},\n",
       " 'source': '# `nbexport` — Notebook exporter\\n> Export python modules from notebooks without the full overhead of `nbdev`. '}"
      ]
     },
     "execution_count": null,
     "metadata": {},
     "output_type": "execute_result"
    }
   ],
   "source": [
    "nb.cells[0]"
   ]
  },
  {
   "cell_type": "markdown",
   "id": "def469d2-5b19-486b-8768-4051c83d29e4",
   "metadata": {},
   "source": [
    "### Import sample cells for testing"
   ]
  },
  {
   "cell_type": "code",
   "execution_count": null,
   "id": "6b6c4903-baf5-4d9d-b231-45852352b00f",
   "metadata": {},
   "outputs": [
    {
     "data": {
      "text/plain": [
       "{'cell_type': 'code',\n",
       " 'execution_count': None,\n",
       " 'id': '4907343b-a001-4cf8-a591-f296665133e2',\n",
       " 'metadata': {},\n",
       " 'outputs': [],\n",
       " 'source': '#|default_exp: nbexport'}"
      ]
     },
     "execution_count": null,
     "metadata": {},
     "output_type": "execute_result"
    }
   ],
   "source": [
    "first_code_cell=[cell for cell in nb.cells if cell.cell_type=='code'][0]\n",
    "first_code_cell"
   ]
  },
  {
   "cell_type": "code",
   "execution_count": null,
   "id": "00baa06a-eed0-401e-9bfd-755e0cc31a26",
   "metadata": {},
   "outputs": [],
   "source": [
    "first_cell_with_directive=[cell for cell in nb.cells if cell.cell_type=='code' and cell.source.startswith(\"#|\")][0]"
   ]
  },
  {
   "cell_type": "markdown",
   "id": "7b6c7880-85c7-41f5-bc3d-161a02a50e53",
   "metadata": {},
   "source": [
    "### split_metadata\n",
    "> Return the metadata directives from the top of a cell"
   ]
  },
  {
   "cell_type": "code",
   "execution_count": null,
   "id": "87d60f65-0064-40b4-b99d-54cc684fa269",
   "metadata": {},
   "outputs": [],
   "source": [
    "#|export\n",
    "def split_metadata(code):\n",
    "    \"\"\"\n",
    "    Remove the metadata from the top of a code cell\n",
    "    \"\"\"\n",
    "    lines = code.splitlines()\n",
    "    meta_lines = []\n",
    "    rest_lines = []\n",
    "    for num,line in enumerate(lines):\n",
    "        if line.startswith(\"#|\"):\n",
    "            meta_lines.append(line[2:])\n",
    "        else:\n",
    "            rest_lines = lines[num:]\n",
    "            break\n",
    "    return meta_lines, '\\n'.join(rest_lines)        \n"
   ]
  },
  {
   "cell_type": "code",
   "execution_count": null,
   "id": "04113f6d-4793-44f8-a89e-0f950c1bd10c",
   "metadata": {},
   "outputs": [
    {
     "data": {
      "text/plain": [
       "(['default_exp: nbexport'], '')"
      ]
     },
     "execution_count": null,
     "metadata": {},
     "output_type": "execute_result"
    }
   ],
   "source": [
    "split_metadata(first_code_cell.source)"
   ]
  },
  {
   "cell_type": "code",
   "execution_count": null,
   "id": "9693fd03-d0b5-4864-aad7-67659c4ac859",
   "metadata": {},
   "outputs": [
    {
     "data": {
      "text/plain": [
       "(['default_exp: nbexport'], '')"
      ]
     },
     "execution_count": null,
     "metadata": {},
     "output_type": "execute_result"
    }
   ],
   "source": [
    "split_metadata(first_cell_with_directive.source)"
   ]
  },
  {
   "cell_type": "markdown",
   "id": "ddf46cfb-2adc-4f01-9880-eb804618a377",
   "metadata": {},
   "source": [
    "### metadata_dict\n",
    "> Parse metadata directives into a dictionary"
   ]
  },
  {
   "cell_type": "code",
   "execution_count": null,
   "id": "79a46240-dd07-4d6f-990e-b176b6c94e2b",
   "metadata": {},
   "outputs": [],
   "source": [
    "#|export\n",
    "def metadata_dict(metadata_lines):\n",
    "    metadata = {}\n",
    "    for line in metadata_lines:\n",
    "        key, val, *_ = line.split(\":\",1) + [None]            \n",
    "        key = key.strip()\n",
    "        if val:\n",
    "            val = val.strip()\n",
    "        metadata[key]=val\n",
    "    return metadata"
   ]
  },
  {
   "cell_type": "code",
   "execution_count": null,
   "id": "03ca0ef9-c89d-47ca-ace6-2b074652f263",
   "metadata": {},
   "outputs": [
    {
     "data": {
      "text/plain": [
       "{'default_exp': 'nbexport'}"
      ]
     },
     "execution_count": null,
     "metadata": {},
     "output_type": "execute_result"
    }
   ],
   "source": [
    "metadata, source = split_metadata(first_cell_with_directive.source)\n",
    "metadata_dict(metadata)"
   ]
  },
  {
   "cell_type": "markdown",
   "id": "3520aa15-222d-47c8-bdec-ba80e7ecd6a8",
   "metadata": {},
   "source": [
    "### parse_code_cell\n",
    "> split metadata directives and parse"
   ]
  },
  {
   "cell_type": "code",
   "execution_count": null,
   "id": "bca829c2-1b7a-4af8-b97c-658252bb7e00",
   "metadata": {},
   "outputs": [],
   "source": [
    "#|export\n",
    "def parse_code_cell(cell):\n",
    "    metadata, source = split_metadata(cell.source)\n",
    "    return metadata_dict(metadata), source"
   ]
  },
  {
   "cell_type": "code",
   "execution_count": null,
   "id": "e40a812c-8953-4046-9054-61d0a250fd8a",
   "metadata": {},
   "outputs": [
    {
     "data": {
      "text/plain": [
       "({'default_exp': 'nbexport'}, '')"
      ]
     },
     "execution_count": null,
     "metadata": {},
     "output_type": "execute_result"
    }
   ],
   "source": [
    "parse_code_cell(first_code_cell)"
   ]
  },
  {
   "cell_type": "code",
   "execution_count": null,
   "id": "6bdf882a-24e4-4d0c-8e4a-c1ee8abd0b35",
   "metadata": {},
   "outputs": [],
   "source": [
    "#|export\n",
    "# Break up the string __notebook__export__main__ so that it is not substituted\n",
    "NOTEBOOK_MAIN_STR= '__' + 'notebook_export_main' + '__' "
   ]
  },
  {
   "cell_type": "markdown",
   "id": "09ba4681-9df6-42e1-a1ce-66ffabf06c80",
   "metadata": {},
   "source": [
    "### scan_notebooks\n",
    "> Read a list of notebook files and collect sources into modules"
   ]
  },
  {
   "cell_type": "code",
   "execution_count": null,
   "id": "0d4eeb5b-f6a9-4769-80e7-5d3643a9202c",
   "metadata": {},
   "outputs": [],
   "source": [
    "#|export\n",
    "def scan_notebooks(file_list, modules=None):\n",
    "    if modules is None:\n",
    "        modules = {}\n",
    "    for nbfile in file_list:\n",
    "        default_module = 'main.py'\n",
    "        nb=nbformat.read(nbfile, nbformat.NO_CONVERT)\n",
    "        for cell in nb.cells:\n",
    "            export_module = None\n",
    "            if cell.cell_type != 'code':\n",
    "                continue\n",
    "            metadata, source = parse_code_cell(cell)\n",
    "            if Directive.skip_notebook.name in metadata:\n",
    "                break\n",
    "                \n",
    "            if Directive.default_exp.name in metadata:\n",
    "                default_module = metadata[Directive.default_exp.name] + \".py\"\n",
    "                export_module = default_module\n",
    "            \n",
    "            if Directive.noexport.name in metadata:\n",
    "                continue\n",
    "                \n",
    "            if Directive.export.name in metadata:\n",
    "                export_module = metadata[Directive.export.name] or default_module\n",
    "                \n",
    "            elif re.search(\"^[\\\\s]*(from .* )?import\", source, re.MULTILINE):\n",
    "                export_module = default_module\n",
    "        \n",
    "            if export_module:\n",
    "                modules.setdefault(export_module,[]).append(source)\n",
    "            \n",
    "    return modules\n"
   ]
  },
  {
   "cell_type": "code",
   "execution_count": null,
   "id": "7ea02a75-9e70-43d8-8494-86983a5bffd3",
   "metadata": {},
   "outputs": [],
   "source": [
    "#|export\n",
    "DEFAULT_PREAMBLE=\"\"\"#!/usr/bin/env python3\n",
    "# AUTOMATICALLY GENERATED FILE - Do not edit\n",
    "#\n",
    "# This file was generated from jupyter notebooks\n",
    "\"\"\""
   ]
  },
  {
   "cell_type": "markdown",
   "id": "9f62f2c7-f0f5-42e7-9d69-e3371e553108",
   "metadata": {},
   "source": [
    "### write_modules\n",
    "> Given a modules dictionary, write out the python sources"
   ]
  },
  {
   "cell_type": "code",
   "execution_count": null,
   "id": "812c9072-9d11-401d-980e-8f0867f0f9cb",
   "metadata": {},
   "outputs": [],
   "source": [
    "#|export\n",
    "def write_modules(module_dir, modules, preamble=DEFAULT_PREAMBLE):\n",
    "    \"Once notebooks have been scanned, export the resulting modules\"\n",
    "    if not os.path.isdir(module_dir):\n",
    "        os.makedirs(module_dir)\n",
    "    for module, sources in modules.items():\n",
    "        \n",
    "        sources = [ source.replace(NOTEBOOK_MAIN_STR, '__main__') for source in sources]\n",
    "    \n",
    "        with open(os.path.join(module_dir, module), \"w\") as f:\n",
    "            print(f\"Writing {module}\")\n",
    "            f.write(preamble)\n",
    "            f.write(\"\\n\\n\")\n",
    "            f.write(\"\\n\\n\".join(sources))\n",
    "            "
   ]
  },
  {
   "cell_type": "markdown",
   "id": "0c7d00e5-ccfc-4379-a54e-b37eb39311d7",
   "metadata": {},
   "source": [
    "### export_notebook_dir\n",
    "> Read the notebooks in a directory and export to python"
   ]
  },
  {
   "cell_type": "code",
   "execution_count": null,
   "id": "8bfad8d6-87b8-49ab-a61a-eb86d01489df",
   "metadata": {},
   "outputs": [],
   "source": [
    "#|export\n",
    "def export_notebook_dir(nb_dir, module_dir=\"lib\"):\n",
    "    \"Enumerate the notebooks in nb_dir and export them all\"\n",
    "    notebooks=[ os.path.join(nb_dir,f) for f in os.listdir(nb_dir) if f.endswith(\".ipynb\") ]\n",
    "    export_notebooks(notebooks, module_dir)"
   ]
  },
  {
   "cell_type": "markdown",
   "id": "2ddea61c-ff87-4b56-a908-e8ec21bd4255",
   "metadata": {},
   "source": [
    "### export_notebooks\n",
    "> Read a list of notebooks and export to python"
   ]
  },
  {
   "cell_type": "code",
   "execution_count": null,
   "id": "f9d8d7b5-71b0-4d9f-8272-64474406cc51",
   "metadata": {},
   "outputs": [],
   "source": [
    "#|export\n",
    "def export_notebooks(notebooks, module_dir):\n",
    "    \"Export the files listed in *notebooks*\"\n",
    "    modules = scan_notebooks(notebooks)\n",
    "    write_modules(module_dir, modules)\n",
    "    "
   ]
  },
  {
   "cell_type": "markdown",
   "id": "3492c95f-75f9-46d8-8813-69c378b681f9",
   "metadata": {},
   "source": [
    "## How to write main\n",
    "\n",
    "Writing traditional python main wouldn't work because it would also run in the notebook. Instead, use the special symbol `__notebook__export__main__`, which will be replaced by `__main__` during export:\n",
    "\n",
    "```python\n",
    "\n",
    "# runs in module and notebook\n",
    "if __name__ == \"__main__\":\n",
    "    do_main_thing()\n",
    "    \n",
    "# runs in module\n",
    "if __name__ == \"__notebook__export__main__\":\n",
    "    do_main_thing()\n",
    "```"
   ]
  },
  {
   "cell_type": "code",
   "execution_count": null,
   "id": "dfd8645b-b6c9-4fbd-86e0-39f7574ad5f3",
   "metadata": {},
   "outputs": [],
   "source": [
    "#|export\n",
    "def main():\n",
    "    import sys\n",
    "    USAGE=f\"\"\"\n",
    "    nbexport: export one or more notebooks as python modules\n",
    "    {os.path.basename(sys.argv[0])} [--help] [-d <export_dir>] notebook_file...\n",
    "    \"\"\"\n",
    "    export_dir=\".\"\n",
    "    args = sys.argv[1:]\n",
    "    \n",
    "    if len(args)==0 or args[0] in ('-h', '--help', '-H'):\n",
    "        print(USAGE)\n",
    "        print(\"Directives:\")\n",
    "        print(\"\\n\".join(d.name for d in Directive))\n",
    "        sys.exit(1)\n",
    "        \n",
    "    if args[0] == \"-d\":\n",
    "        export_dir = args[1]\n",
    "        args = args[2:]\n",
    "\n",
    "    print(f'exporting {\", \".join(args)}')\n",
    "    print(f'export dir: {export_dir}')\n",
    "    export_notebooks(args, export_dir)\n",
    "    "
   ]
  },
  {
   "cell_type": "code",
   "execution_count": null,
   "id": "2adda25d-d651-4279-8c42-5433700ae6b1",
   "metadata": {},
   "outputs": [],
   "source": [
    "#|export\n",
    "if __name__ == \"__notebook_export_main__\":\n",
    "    main()"
   ]
  },
  {
   "cell_type": "markdown",
   "id": "32bb7e38-fc0f-4012-b879-290e4ce2c9f4",
   "metadata": {},
   "source": [
    "### Export this notebook to a python module"
   ]
  },
  {
   "cell_type": "code",
   "execution_count": null,
   "id": "3d5c6e22-3d79-4506-966d-b77a163780b9",
   "metadata": {},
   "outputs": [
    {
     "name": "stdout",
     "output_type": "stream",
     "text": [
      "Writing nbexport.py\n"
     ]
    }
   ],
   "source": [
    "export_notebooks([\"nbs/01_NbExport.ipynb\"], \"src/nbexport\")"
   ]
  },
  {
   "cell_type": "code",
   "execution_count": null,
   "id": "c08103db-48ce-4e59-a2a5-825ca3c65212",
   "metadata": {},
   "outputs": [
    {
     "name": "stdout",
     "output_type": "stream",
     "text": [
      "Writing nbexport.py\n"
     ]
    }
   ],
   "source": [
    "export_notebook_dir(\"nbs\", \"src\")"
   ]
  }
 ],
 "metadata": {
  "kernelspec": {
   "display_name": "python3",
   "language": "python",
   "name": "python3"
  },
  "widgets": {
   "application/vnd.jupyter.widget-state+json": {
    "state": {},
    "version_major": 2,
    "version_minor": 0
   }
  }
 },
 "nbformat": 4,
 "nbformat_minor": 5
}
